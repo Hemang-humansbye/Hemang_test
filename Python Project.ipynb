{
 "cells": [
  {
   "cell_type": "code",
   "execution_count": 3,
   "id": "6f60954a",
   "metadata": {},
   "outputs": [
    {
     "name": "stdout",
     "output_type": "stream",
     "text": [
      "1+1= 2\n",
      "Correct! 1+1 is 2!\n",
      "\n",
      "\n"
     ]
    }
   ],
   "source": [
    "##Quiz Class:\n",
    "class Quiz():\n",
    "  Question = \"\"\n",
    "  Answer = \"\"\n",
    "  CorrectStatement = \"\"\n",
    "  IncorrectStatement = \"\"\n",
    "\n",
    "\n",
    "##Put code here:\n",
    "\n",
    "##Template:\n",
    "Quiz.Question = \"1+1= \"\n",
    "Quiz.Answer = \"2\"\n",
    "Quiz.CorrectStatement = \"Correct! 1+1 is 2!\"\n",
    "Quiz.IncorrectStatement = \"Incorrect! 1+1 is 2!\"\n",
    "\n",
    "Ask = input(Quiz.Question)\n",
    "\n",
    "if(Ask == Quiz.Answer):\n",
    "  print (Quiz.CorrectStatement)\n",
    "  \n",
    "else:\n",
    "  print (Quiz.IncorrectStatement)\n",
    "\n",
    "##Now you try!\n",
    "Quiz.Question = \"\"\n",
    "Quiz.Answer = \"\"\n",
    "Quiz.CorrectStatement = \"\"\n",
    "Quiz.IncorrectStatement = \"Incorrect\"\n",
    "\n",
    "Ask = input(Quiz.Question)\n",
    "\n",
    "if(Ask == Quiz.Answer):\n",
    "  print (Quiz.CorrectStatement)\n",
    "  \n",
    "else:\n",
    "  print (Quiz.IncorrectStatement)"
   ]
  },
  {
   "cell_type": "code",
   "execution_count": 8,
   "id": "2f0714f6",
   "metadata": {},
   "outputs": [
    {
     "name": "stdout",
     "output_type": "stream",
     "text": [
      "*** Quiz ***\n",
      "\n",
      "Please enter your name: ki\n",
      "\n"
     ]
    },
    {
     "ename": "AttributeError",
     "evalue": "'list' object has no attribute 'items'",
     "output_type": "error",
     "traceback": [
      "\u001b[1;31m---------------------------------------------------------------------------\u001b[0m",
      "\u001b[1;31mAttributeError\u001b[0m                            Traceback (most recent call last)",
      "Input \u001b[1;32mIn [8]\u001b[0m, in \u001b[0;36m<cell line: 18>\u001b[1;34m()\u001b[0m\n\u001b[0;32m     16\u001b[0m             \u001b[38;5;28;01mreturn\u001b[39;00m score\n\u001b[0;32m     18\u001b[0m \u001b[38;5;28;01mif\u001b[39;00m \u001b[38;5;18m__name__\u001b[39m \u001b[38;5;241m==\u001b[39m \u001b[38;5;124m\"\u001b[39m\u001b[38;5;124m__main__\u001b[39m\u001b[38;5;124m\"\u001b[39m:\n\u001b[1;32m---> 19\u001b[0m     \u001b[43mmain\u001b[49m\u001b[43m(\u001b[49m\u001b[43m)\u001b[49m\n",
      "Input \u001b[1;32mIn [8]\u001b[0m, in \u001b[0;36mmain\u001b[1;34m()\u001b[0m\n\u001b[0;32m      5\u001b[0m name \u001b[38;5;241m=\u001b[39m \u001b[38;5;28minput\u001b[39m(\u001b[38;5;124m\"\u001b[39m\u001b[38;5;124mPlease enter your name: \u001b[39m\u001b[38;5;124m\"\u001b[39m)\u001b[38;5;241m.\u001b[39mtitle()\n\u001b[0;32m      6\u001b[0m \u001b[38;5;28mprint\u001b[39m()\n\u001b[1;32m----> 7\u001b[0m \u001b[38;5;28mprint\u001b[39m(\u001b[38;5;124m\"\u001b[39m\u001b[38;5;130;01m\\n\u001b[39;00m\u001b[38;5;124mWell done \u001b[39m\u001b[38;5;132;01m{0}\u001b[39;00m\u001b[38;5;124m, you scored \u001b[39m\u001b[38;5;132;01m{1}\u001b[39;00m\u001b[38;5;124m out of \u001b[39m\u001b[38;5;132;01m{2}\u001b[39;00m\u001b[38;5;124m.\u001b[39m\u001b[38;5;124m\"\u001b[39m\u001b[38;5;241m.\u001b[39mformat(name, \u001b[43mquiz\u001b[49m\u001b[43m(\u001b[49m\u001b[43mqs\u001b[49m\u001b[43m)\u001b[49m, \u001b[38;5;28mlen\u001b[39m(qs)))\n",
      "Input \u001b[1;32mIn [8]\u001b[0m, in \u001b[0;36mquiz\u001b[1;34m(qs)\u001b[0m\n\u001b[0;32m      8\u001b[0m \u001b[38;5;28;01mdef\u001b[39;00m \u001b[38;5;21mquiz\u001b[39m(qs):\n\u001b[0;32m      9\u001b[0m     score \u001b[38;5;241m=\u001b[39m \u001b[38;5;241m0\u001b[39m\n\u001b[1;32m---> 10\u001b[0m     \u001b[38;5;28;01mfor\u001b[39;00m q,a \u001b[38;5;129;01min\u001b[39;00m \u001b[43mqs\u001b[49m\u001b[38;5;241;43m.\u001b[39;49m\u001b[43mitems\u001b[49m():\n\u001b[0;32m     11\u001b[0m         \u001b[38;5;28;01mif\u001b[39;00m \u001b[38;5;28minput\u001b[39m(q)\u001b[38;5;241m.\u001b[39mlower() \u001b[38;5;241m==\u001b[39m a\u001b[38;5;241m.\u001b[39mlower():\n\u001b[0;32m     12\u001b[0m             score \u001b[38;5;241m+\u001b[39m\u001b[38;5;241m=\u001b[39m \u001b[38;5;241m1\u001b[39m\n",
      "\u001b[1;31mAttributeError\u001b[0m: 'list' object has no attribute 'items'"
     ]
    }
   ],
   "source": [
    "def main():\n",
    "    \n",
    "    qs=['sein', 'aben', 'erden', 'sagen ','to say', 'geben ''to give']\n",
    "    print(\"*** Quiz ***\\n\")\n",
    "    name = input(\"Please enter your name: \").title()\n",
    "    print()\n",
    "    print(\"\\nWell done {0}, you scored {1} out of {2}.\".format(name, quiz(qs), len(qs)))\n",
    "def quiz(qs):\n",
    "    score = 0\n",
    "    for q,a in qs.items():\n",
    "        if input(q).lower() == a.lower():\n",
    "            score += 1\n",
    "            print(\"Correct.\")\n",
    "        else:\n",
    "            print(\"Sorry, correct answer is \\\"{}\\\".\".format(a))\n",
    "            return score\n",
    " \n",
    "if __name__ == \"__main__\":\n",
    "    main()\n"
   ]
  },
  {
   "cell_type": "code",
   "execution_count": 1,
   "id": "2a04975b",
   "metadata": {
    "scrolled": true
   },
   "outputs": [
    {
     "name": "stdout",
     "output_type": "stream",
     "text": [
      "Enter your name:Hemang\n",
      "Enter your Roll no.:399\n",
      "Let's Start The Quiz\n",
      "Select Quiz 1= Python Quiz 2=Science Quiz 3=G.k.Quiz\n",
      "3\n",
      "G.K. Quiz\n",
      "Chaliye shuru karte hai\n",
      "Q1-Richest person in india\n",
      "A\n",
      "Correct\n",
      "your score is  5\n",
      "Q2-Is Himesh Team Leader\n",
      "yes\n",
      "incorrect your score is  5\n"
     ]
    }
   ],
   "source": [
    "Name=input(\"Enter your name:\")\n",
    "R=input(\"Enter your Roll no.:\")\n",
    "print(\"Let's Start The Quiz\")\n",
    "print(\"Select Quiz 1= Python Quiz\",\"2=Science Quiz\",\"3=G.k.Quiz\")\n",
    "x=int(input())\n",
    "points = 0\n",
    "if x==1:\n",
    "    print('Python Quiz')\n",
    "    print('Chaliye shuru karte hai')\n",
    "elif x==2:\n",
    "    print('Science Quiz')\n",
    "    print('Chaliye shuru karte hai')\n",
    "elif x==3:\n",
    "    print('G.K. Quiz')\n",
    "    print('Chaliye shuru karte hai')\n",
    "else :\n",
    "    print('Aukaat mai reh')\n",
    "if x==3:\n",
    "    print(\"Q1-Richest person in india\")\n",
    "    y=input()\n",
    "    if y == \"A\":\n",
    "        print (\"Correct\")\n",
    "        points=points + 5\n",
    "        print (\"your score is \",points)\n",
    "    else :\n",
    "        print (\"Sorry bette\", points)\n",
    "    print(\"Q2-Is Himesh Team Leader\")\n",
    "    y=input()\n",
    "    if y ==\"Yes\" :\n",
    "        print (\"correct\")\n",
    "        points = points+5\n",
    "        print (\"Your score is\",points)\n",
    "    else :\n",
    "        print (\"incorrect your score is \",points)\n",
    "            \n",
    "\n"
   ]
  },
  {
   "cell_type": "code",
   "execution_count": null,
   "id": "16c5a702",
   "metadata": {},
   "outputs": [],
   "source": []
  }
 ],
 "metadata": {
  "kernelspec": {
   "display_name": "Python 3 (ipykernel)",
   "language": "python",
   "name": "python3"
  },
  "language_info": {
   "codemirror_mode": {
    "name": "ipython",
    "version": 3
   },
   "file_extension": ".py",
   "mimetype": "text/x-python",
   "name": "python",
   "nbconvert_exporter": "python",
   "pygments_lexer": "ipython3",
   "version": "3.9.12"
  }
 },
 "nbformat": 4,
 "nbformat_minor": 5
}
